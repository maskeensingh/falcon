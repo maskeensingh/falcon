{
  "nbformat": 4,
  "nbformat_minor": 0,
  "metadata": {
    "colab": {
      "provenance": []
    },
    "kernelspec": {
      "name": "python3",
      "display_name": "Python 3"
    },
    "language_info": {
      "name": "python"
    }
  },
  "cells": [
    {
      "cell_type": "code",
      "execution_count": 27,
      "metadata": {
        "id": "RAMM2kCCvuBp"
      },
      "outputs": [],
      "source": [
        "# # import pandas as pd\n",
        "# # import numpy as np\n",
        "# # from sklearn.model_selection import train_test_split\n",
        "# # from sklearn.linear_model import LogisticRegression\n",
        "# # from xgboost import XGBRegressor\n",
        "# # from sklearn.tree import DecisionTreeClassifier\n",
        "# # from sklearn.metrics import accuracy_score\n",
        "# # # // jonsa tab use hora hoga usse use karliyo\n",
        "# from sklearn import svm"
      ]
    },
    {
      "cell_type": "code",
      "source": [
        "# df=pd.read_csv('diabetes.csv')\n",
        "# # //file name badal diyo"
      ],
      "metadata": {
        "id": "zFruyM8twHpb"
      },
      "execution_count": 28,
      "outputs": []
    },
    {
      "cell_type": "code",
      "source": [
        "# df.head()"
      ],
      "metadata": {
        "id": "hoKf8ZFIw0s_"
      },
      "execution_count": 29,
      "outputs": []
    },
    {
      "cell_type": "code",
      "source": [
        "# df.shape\n"
      ],
      "metadata": {
        "id": "0UUchA3Sw-Ho"
      },
      "execution_count": 30,
      "outputs": []
    },
    {
      "cell_type": "code",
      "source": [
        "# df.describe()\n"
      ],
      "metadata": {
        "id": "OzTLuPlnxCZO"
      },
      "execution_count": 31,
      "outputs": []
    },
    {
      "cell_type": "code",
      "source": [
        "# df['Outcome'].value_counts()\n",
        "# # //count  value of 0's and 1's if classification model if not then skip this line"
      ],
      "metadata": {
        "id": "526OUKt9xENh"
      },
      "execution_count": 32,
      "outputs": []
    },
    {
      "cell_type": "code",
      "source": [
        "# df.groupby('Outcome').mean()\n",
        "# # find the mean of each column required for 0 and 1"
      ],
      "metadata": {
        "id": "NhXboUEwxvJP"
      },
      "execution_count": 33,
      "outputs": []
    },
    {
      "cell_type": "code",
      "source": [
        "# X_train, X_test, Y_train, Y_test=train_test_split(df.iloc[:,#jonsi si chahiye oh kardiyo], df.drop['tobe dropped column'], test_size=0.2, random_state=1)"
      ],
      "metadata": {
        "id": "qiEk6-DFybtu"
      },
      "execution_count": 34,
      "outputs": []
    },
    {
      "cell_type": "code",
      "source": [
        "# from sklearn.preprocessing import StandardScaler\n",
        "# ss=StandardScaler()\n",
        "# ss.fit_transform(X_train)\n",
        "# ss.transform(X_test)\n",
        "# X_trains=pd.DataFrame(X_train, columns=X_train.columns)\n",
        "# X_tests=pd.DataFrame(X_test, columns=X_test.columns)\n",
        "# X_trains"
      ],
      "metadata": {
        "id": "LP7cDtVOz57x"
      },
      "execution_count": null,
      "outputs": []
    },
    {
      "cell_type": "code",
      "source": [
        "# from sklearn.preprocessing import MinMaxScaler\n",
        "\n",
        "# scaler = MinMaxScaler()\n",
        "# X_train_scaled = scaler.fit_transform(X_train)\n",
        "# X_test_scaled = scaler.transform(X_test)\n",
        "# X_train_scaled = pd.DataFrame(X_train_scaled, columns=X_train.columns)\n",
        "# X_test_scaled = pd.DataFrame(X_test_scaled, columns=X_test.columns)"
      ],
      "metadata": {
        "id": "THf1kPqy1YB4"
      },
      "execution_count": null,
      "outputs": []
    },
    {
      "cell_type": "code",
      "source": [
        "# lr=LogisticRegression()\n",
        "# lr.fit(X_train, Y_train)\n",
        "# pred=lr.predict(X_test)\n",
        "# pred\n",
        "# from sklearn.metrics import accuracy_score\n",
        "# y=accuracy_score(Y_test,pred)\n",
        "# y"
      ],
      "metadata": {
        "id": "WyFzOQZozAJU"
      },
      "execution_count": 35,
      "outputs": []
    },
    {
      "cell_type": "code",
      "source": [
        "# dt=DecisionTreeClassifier()\n",
        "# dt.fit(X_train,Y_train)\n",
        "# predt=dt.predict(X_test)\n",
        "# z=accuracy_score(Y_test,predt)\n",
        "# z"
      ],
      "metadata": {
        "id": "IDdUnw31zOld"
      },
      "execution_count": 36,
      "outputs": []
    },
    {
      "cell_type": "code",
      "source": [
        "# input_data = (test file)\n",
        "# as_numpy_array = np.asarray(input_data)\n",
        "# reshaped = as_numpy_array.reshape(1,-1)\n",
        "\n",
        "# prediction = lr.predict(reshaped)\n",
        "# print(prediction)\n",
        "\n",
        "# if (prediction[0]=='R'):\n",
        "#   print('true')\n",
        "# else:\n",
        "#   print('false')"
      ],
      "metadata": {
        "id": "VfDKlQxWzSVn"
      },
      "execution_count": 38,
      "outputs": []
    },
    {
      "cell_type": "code",
      "source": [
        "# from sklearn.metrics import mean_absolute_error\n",
        "# mean_absolute_error(y_test,pred)"
      ],
      "metadata": {
        "id": "UbjsobL-0BbA"
      },
      "execution_count": 39,
      "outputs": []
    },
    {
      "cell_type": "markdown",
      "source": [
        "FOR SVM"
      ],
      "metadata": {
        "id": "iGZ6AbZT0qSz"
      }
    },
    {
      "cell_type": "code",
      "source": [
        "# classifier = svm.SVC(kernel='linear')\n",
        "# classifier.fit(X_trains,Y_train)\n",
        "# preds=classifier.predict(X_tests)\n",
        "# preds"
      ],
      "metadata": {
        "id": "PmaaGhqj0m2A"
      },
      "execution_count": null,
      "outputs": []
    },
    {
      "cell_type": "markdown",
      "source": [
        "PLOTTING DIFFERENT GRAPHS"
      ],
      "metadata": {
        "id": "_TikWt7U0ICU"
      }
    },
    {
      "cell_type": "code",
      "source": [
        "# import matplotlib.pyplot as plt\n",
        "# plt.scatter(y_test, pred)//y_test is x axis and pred is y axis value both should be same type of data\n",
        "# plt.xlabel(\"Actual Prices\")\n",
        "# plt.ylabel(\"Predicted Prices\")\n",
        "# plt.title(\"Actual Price vs Predicted Price\")\n",
        "# plt.show()"
      ],
      "metadata": {
        "id": "tkiU-NmC0C6H"
      },
      "execution_count": 40,
      "outputs": []
    },
    {
      "cell_type": "code",
      "source": [
        "import seaborn as sns"
      ],
      "metadata": {
        "id": "0XRDeSsZ2FI4"
      },
      "execution_count": 41,
      "outputs": []
    },
    {
      "cell_type": "code",
      "source": [
        "# sns.countplot(df['Embarked'])\n",
        "# #df['Column on which we have to do'].value_counts().plot(kind='bar')\n",
        "# uppar dono main se koi bhi use karke batate hain ki konsi value ka kitna hai\n"
      ],
      "metadata": {
        "id": "17UDYD492rN2"
      },
      "execution_count": 42,
      "outputs": []
    },
    {
      "cell_type": "code",
      "source": [
        "#pie chart\n",
        "# df['Columns on which we have to do'].value_counts().plot(kind='pie',autopct='%.2f')\n",
        "# histogram we create bins in which numerical data is to be divided\n",
        "# import matplotlib.pyplot as plt\n",
        "# plt.hist(df['Age'],bins=5)\n",
        "\n",
        "# sns.distplot(df['Age'])\n",
        "# sns.boxplot(df['Age'])"
      ],
      "metadata": {
        "id": "cePIyURG3LNv"
      },
      "execution_count": 43,
      "outputs": []
    },
    {
      "cell_type": "code",
      "source": [
        "# bar graph with pclass as x axis and age as y axis and each value having sex as differnetiater\n",
        "# sns.barplot(titanic['Pclass'],titanic['Age'],hue=titanic['Sex'])\n",
        "# sns.scatterplot(tips['total_bill'],tips['tip'],hue=df['sex'],style=df['smoker'],size=df['size'])\n",
        "# hue tells the further distinction beyond x axis and y axis\n",
        "# correlation = house_price_dataframe.corr()\n",
        "# plt.figure(figsize=(10,10))\n",
        "# sns.heatmap(correlation, cbar=True, square=True, fmt='.1f', annot=True, annot_kws={'size':8}, cmap='Blues')"
      ],
      "metadata": {
        "id": "AShG03xF4DZ7"
      },
      "execution_count": null,
      "outputs": []
    }
  ]
}